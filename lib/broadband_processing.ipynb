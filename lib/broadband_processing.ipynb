{
 "cells": [
  {
   "cell_type": "markdown",
   "metadata": {},
   "source": [
    "# # Análise de Assinaturas de Banda Larga Fixa - Banco Mundial\n",
    "# \n",
    "# Este notebook realiza o tratamento dos dados de assinaturas de banda larga fixa obtidos do Banco Mundial."
   ]
  },
  {
   "cell_type": "code",
   "execution_count": 11,
   "metadata": {},
   "outputs": [],
   "source": [
    "import pandas as pd \n",
    "import numpy as np \n",
    "import matplotlib.pyplot as plt\n",
    "import seaborn as sns\n",
    "import os\n"
   ]
  },
  {
   "cell_type": "code",
   "execution_count": 12,
   "metadata": {},
   "outputs": [],
   "source": [
    "# configuração de visualização\n",
    "plt.style.use('ggplot')\n",
    "pd.set_option('display.max_columns', 15)\n",
    "pd.set_option('display.max_rows', 20)"
   ]
  },
  {
   "cell_type": "markdown",
   "metadata": {},
   "source": [
    "# ## 1. Carregamento dos dados"
   ]
  },
  {
   "cell_type": "code",
   "execution_count": 4,
   "metadata": {},
   "outputs": [
    {
     "data": {
      "text/html": [
       "<div>\n",
       "<style scoped>\n",
       "    .dataframe tbody tr th:only-of-type {\n",
       "        vertical-align: middle;\n",
       "    }\n",
       "\n",
       "    .dataframe tbody tr th {\n",
       "        vertical-align: top;\n",
       "    }\n",
       "\n",
       "    .dataframe thead th {\n",
       "        text-align: right;\n",
       "    }\n",
       "</style>\n",
       "<table border=\"1\" class=\"dataframe\">\n",
       "  <thead>\n",
       "    <tr style=\"text-align: right;\">\n",
       "      <th></th>\n",
       "      <th>Series Name</th>\n",
       "      <th>Series Code</th>\n",
       "      <th>Country Name</th>\n",
       "      <th>Country Code</th>\n",
       "      <th>1990 [YR1990]</th>\n",
       "      <th>2000 [YR2000]</th>\n",
       "      <th>2015 [YR2015]</th>\n",
       "      <th>...</th>\n",
       "      <th>2018 [YR2018]</th>\n",
       "      <th>2019 [YR2019]</th>\n",
       "      <th>2020 [YR2020]</th>\n",
       "      <th>2021 [YR2021]</th>\n",
       "      <th>2022 [YR2022]</th>\n",
       "      <th>2023 [YR2023]</th>\n",
       "      <th>2024 [YR2024]</th>\n",
       "    </tr>\n",
       "  </thead>\n",
       "  <tbody>\n",
       "    <tr>\n",
       "      <th>0</th>\n",
       "      <td>Fixed broadband subscriptions</td>\n",
       "      <td>IT.NET.BBND</td>\n",
       "      <td>Afghanistan</td>\n",
       "      <td>AFG</td>\n",
       "      <td>..</td>\n",
       "      <td>..</td>\n",
       "      <td>7070</td>\n",
       "      <td>...</td>\n",
       "      <td>16000</td>\n",
       "      <td>19700</td>\n",
       "      <td>26600</td>\n",
       "      <td>26600</td>\n",
       "      <td>32299.9999999999</td>\n",
       "      <td>33200</td>\n",
       "      <td>..</td>\n",
       "    </tr>\n",
       "    <tr>\n",
       "      <th>1</th>\n",
       "      <td>Fixed broadband subscriptions</td>\n",
       "      <td>IT.NET.BBND</td>\n",
       "      <td>Albania</td>\n",
       "      <td>ALB</td>\n",
       "      <td>..</td>\n",
       "      <td>..</td>\n",
       "      <td>243000</td>\n",
       "      <td>...</td>\n",
       "      <td>362000</td>\n",
       "      <td>436000</td>\n",
       "      <td>509000</td>\n",
       "      <td>559000</td>\n",
       "      <td>585000</td>\n",
       "      <td>632000</td>\n",
       "      <td>..</td>\n",
       "    </tr>\n",
       "    <tr>\n",
       "      <th>2</th>\n",
       "      <td>Fixed broadband subscriptions</td>\n",
       "      <td>IT.NET.BBND</td>\n",
       "      <td>Algeria</td>\n",
       "      <td>DZA</td>\n",
       "      <td>..</td>\n",
       "      <td>..</td>\n",
       "      <td>2270000</td>\n",
       "      <td>...</td>\n",
       "      <td>3070000</td>\n",
       "      <td>3580000</td>\n",
       "      <td>3790000</td>\n",
       "      <td>4179999.99999999</td>\n",
       "      <td>4710000</td>\n",
       "      <td>5540000</td>\n",
       "      <td>..</td>\n",
       "    </tr>\n",
       "    <tr>\n",
       "      <th>3</th>\n",
       "      <td>Fixed broadband subscriptions</td>\n",
       "      <td>IT.NET.BBND</td>\n",
       "      <td>American Samoa</td>\n",
       "      <td>ASM</td>\n",
       "      <td>..</td>\n",
       "      <td>..</td>\n",
       "      <td>..</td>\n",
       "      <td>...</td>\n",
       "      <td>..</td>\n",
       "      <td>..</td>\n",
       "      <td>..</td>\n",
       "      <td>..</td>\n",
       "      <td>..</td>\n",
       "      <td>..</td>\n",
       "      <td>..</td>\n",
       "    </tr>\n",
       "    <tr>\n",
       "      <th>4</th>\n",
       "      <td>Fixed broadband subscriptions</td>\n",
       "      <td>IT.NET.BBND</td>\n",
       "      <td>Andorra</td>\n",
       "      <td>AND</td>\n",
       "      <td>..</td>\n",
       "      <td>..</td>\n",
       "      <td>30700</td>\n",
       "      <td>...</td>\n",
       "      <td>35700</td>\n",
       "      <td>36400</td>\n",
       "      <td>37700</td>\n",
       "      <td>39400</td>\n",
       "      <td>40800</td>\n",
       "      <td>41800</td>\n",
       "      <td>..</td>\n",
       "    </tr>\n",
       "  </tbody>\n",
       "</table>\n",
       "<p>5 rows × 16 columns</p>\n",
       "</div>"
      ],
      "text/plain": [
       "                     Series Name  Series Code    Country Name Country Code  \\\n",
       "0  Fixed broadband subscriptions  IT.NET.BBND     Afghanistan          AFG   \n",
       "1  Fixed broadband subscriptions  IT.NET.BBND         Albania          ALB   \n",
       "2  Fixed broadband subscriptions  IT.NET.BBND         Algeria          DZA   \n",
       "3  Fixed broadband subscriptions  IT.NET.BBND  American Samoa          ASM   \n",
       "4  Fixed broadband subscriptions  IT.NET.BBND         Andorra          AND   \n",
       "\n",
       "  1990 [YR1990] 2000 [YR2000] 2015 [YR2015]  ... 2018 [YR2018] 2019 [YR2019]  \\\n",
       "0            ..            ..          7070  ...         16000         19700   \n",
       "1            ..            ..        243000  ...        362000        436000   \n",
       "2            ..            ..       2270000  ...       3070000       3580000   \n",
       "3            ..            ..            ..  ...            ..            ..   \n",
       "4            ..            ..         30700  ...         35700         36400   \n",
       "\n",
       "  2020 [YR2020]     2021 [YR2021]     2022 [YR2022] 2023 [YR2023]  \\\n",
       "0         26600             26600  32299.9999999999         33200   \n",
       "1        509000            559000            585000        632000   \n",
       "2       3790000  4179999.99999999           4710000       5540000   \n",
       "3            ..                ..                ..            ..   \n",
       "4         37700             39400             40800         41800   \n",
       "\n",
       "  2024 [YR2024]  \n",
       "0            ..  \n",
       "1            ..  \n",
       "2            ..  \n",
       "3            ..  \n",
       "4            ..  \n",
       "\n",
       "[5 rows x 16 columns]"
      ]
     },
     "execution_count": 4,
     "metadata": {},
     "output_type": "execute_result"
    }
   ],
   "source": [
    "# Carregar o arquivo CSV\n",
    "fixedbb_df = pd.read_csv('../data/raw/fixedBroadband/44d80493-94ea-49af-93eb-b9538fb7106a_Data.csv')\n",
    "fixedbb_df.head()"
   ]
  },
  {
   "cell_type": "code",
   "execution_count": 13,
   "metadata": {},
   "outputs": [],
   "source": [
    "# Limpeza inicial\n",
    "# Remover colunas/linhas vazias e metadados\n",
    "fixedbb_df = fixedbb_df.dropna(how='all', axis=1)  # Colunas vazias\n",
    "fixedbb_df = fixedbb_df.dropna(how='all')          # Linhas vazias\n",
    "fixedbb_df = fixedbb_df[~fixedbb_df['Series Name'].isna()] # Linhas de metadados"
   ]
  },
  {
   "cell_type": "code",
   "execution_count": 14,
   "metadata": {},
   "outputs": [
    {
     "name": "stdout",
     "output_type": "stream",
     "text": [
      "Dados da Argentina: 1 linha(s) encontrada(s)\n"
     ]
    }
   ],
   "source": [
    "argentina = fixedbb_df[fixedbb_df['Country Name'] == 'Argentina'].copy()\n",
    "print(f\"Dados da Argentina: {argentina.shape[0]} linha(s) encontrada(s)\")"
   ]
  },
  {
   "cell_type": "code",
   "execution_count": 16,
   "metadata": {},
   "outputs": [
    {
     "name": "stderr",
     "output_type": "stream",
     "text": [
      "/var/folders/_w/7cw3691n0kd6pjct_9q417fr0000gn/T/ipykernel_5060/2178477518.py:9: FutureWarning: Downcasting behavior in `replace` is deprecated and will be removed in a future version. To retain the old behavior, explicitly call `result.infer_objects(copy=False)`. To opt-in to the future behavior, set `pd.set_option('future.no_silent_downcasting', True)`\n",
      "  argentina[year_cols] = argentina[year_cols].replace('..', np.nan)\n"
     ]
    }
   ],
   "source": [
    "# Selecionar colunas de ano (formato: \"2020 [YR2020]\")\n",
    "year_cols = [col for col in argentina.columns if 'YR' in col]\n",
    "\n",
    "# Simplificar nomes das colunas (remove \"[YRXXXX]\")\n",
    "argentina.columns = [col.split(' [')[0] if ' [' in col else col for col in argentina.columns]\n",
    "year_cols = [col.split(' [')[0] for col in year_cols]  # Atualiza lista\n",
    "\n",
    "# Converter valores \"..\" para NaN e depois para numérico\n",
    "argentina[year_cols] = argentina[year_cols].replace('..', np.nan)\n",
    "argentina[year_cols] = argentina[year_cols].apply(pd.to_numeric)"
   ]
  },
  {
   "cell_type": "code",
   "execution_count": 17,
   "metadata": {},
   "outputs": [
    {
     "data": {
      "text/html": [
       "<div>\n",
       "<style scoped>\n",
       "    .dataframe tbody tr th:only-of-type {\n",
       "        vertical-align: middle;\n",
       "    }\n",
       "\n",
       "    .dataframe tbody tr th {\n",
       "        vertical-align: top;\n",
       "    }\n",
       "\n",
       "    .dataframe thead th {\n",
       "        text-align: right;\n",
       "    }\n",
       "</style>\n",
       "<table border=\"1\" class=\"dataframe\">\n",
       "  <thead>\n",
       "    <tr style=\"text-align: right;\">\n",
       "      <th></th>\n",
       "      <th>Series Name</th>\n",
       "      <th>Country Name</th>\n",
       "      <th>Ano</th>\n",
       "      <th>Assinaturas</th>\n",
       "    </tr>\n",
       "  </thead>\n",
       "  <tbody>\n",
       "    <tr>\n",
       "      <th>2</th>\n",
       "      <td>Fixed broadband subscriptions</td>\n",
       "      <td>Argentina</td>\n",
       "      <td>2015</td>\n",
       "      <td>6860000.0</td>\n",
       "    </tr>\n",
       "    <tr>\n",
       "      <th>3</th>\n",
       "      <td>Fixed broadband subscriptions</td>\n",
       "      <td>Argentina</td>\n",
       "      <td>2016</td>\n",
       "      <td>7250000.0</td>\n",
       "    </tr>\n",
       "    <tr>\n",
       "      <th>4</th>\n",
       "      <td>Fixed broadband subscriptions</td>\n",
       "      <td>Argentina</td>\n",
       "      <td>2017</td>\n",
       "      <td>7840000.0</td>\n",
       "    </tr>\n",
       "    <tr>\n",
       "      <th>5</th>\n",
       "      <td>Fixed broadband subscriptions</td>\n",
       "      <td>Argentina</td>\n",
       "      <td>2018</td>\n",
       "      <td>8470000.0</td>\n",
       "    </tr>\n",
       "    <tr>\n",
       "      <th>6</th>\n",
       "      <td>Fixed broadband subscriptions</td>\n",
       "      <td>Argentina</td>\n",
       "      <td>2019</td>\n",
       "      <td>8790000.0</td>\n",
       "    </tr>\n",
       "  </tbody>\n",
       "</table>\n",
       "</div>"
      ],
      "text/plain": [
       "                     Series Name Country Name   Ano  Assinaturas\n",
       "2  Fixed broadband subscriptions    Argentina  2015    6860000.0\n",
       "3  Fixed broadband subscriptions    Argentina  2016    7250000.0\n",
       "4  Fixed broadband subscriptions    Argentina  2017    7840000.0\n",
       "5  Fixed broadband subscriptions    Argentina  2018    8470000.0\n",
       "6  Fixed broadband subscriptions    Argentina  2019    8790000.0"
      ]
     },
     "metadata": {},
     "output_type": "display_data"
    }
   ],
   "source": [
    "argentina_long = argentina.melt(\n",
    "    id_vars=['Series Name', 'Country Name'],\n",
    "    value_vars=year_cols,\n",
    "    var_name='Ano',\n",
    "    value_name='Assinaturas'\n",
    ").dropna()\n",
    "\n",
    "# Converter ano para inteiro\n",
    "argentina_long['Ano'] = argentina_long['Ano'].astype(int)\n",
    "\n",
    "# Ordenar por ano\n",
    "argentina_long = argentina_long.sort_values('Ano')\n",
    "\n",
    "# Resultado\n",
    "display(argentina_long.head())"
   ]
  },
  {
   "cell_type": "code",
   "execution_count": null,
   "metadata": {},
   "outputs": [
    {
     "data": {
      "image/png": "[encoded data removed]",
      "text/plain": [
       "<Figure size 1000x400 with 1 Axes>"
      ]
     },
     "metadata": {},
     "output_type": "display_data"
    }
   ],
   "source": [
    "# Visualização dos dados no Jupyter notebook antes de extrai-lo em arquivo CSV\n",
    "\n",
    "plt.figure(figsize=(10, 4))\n",
    "plt.plot(argentina_long['Ano'], argentina_long['Assinaturas'], 'b-o', linewidth=2)\n",
    "plt.title('Assinaturas de Banda Larga Fixa na Argentina')\n",
    "plt.xlabel('Ano')\n",
    "plt.ylabel('Total de Assinaturas')\n",
    "plt.grid(True)\n",
    "plt.show()"
   ]
  },
  {
   "cell_type": "code",
   "execution_count": 19,
   "metadata": {},
   "outputs": [
    {
     "name": "stdout",
     "output_type": "stream",
     "text": [
      "Dados exportados para ../data/processed/fixedBroadband/argentina_fixed_broadband.csv\n"
     ]
    }
   ],
   "source": [
    "# Extrair dados para CSV\n",
    "output_dir = '../data/processed/fixedBroadband'\n",
    "os.makedirs(output_dir, exist_ok=True)\n",
    "output_file = os.path.join(output_dir, 'argentina_fixed_broadband.csv')\n",
    "argentina_long.to_csv(output_file, index=False)\n",
    "print(f\"Dados exportados para {output_file}\")"
   ]
  },
  {
   "cell_type": "code",
   "execution_count": null,
   "metadata": {},
   "outputs": [],
   "source": []
  }
 ],
 "metadata": {
  "kernelspec": {
   "display_name": "sparkstudy",
   "language": "python",
   "name": "python3"
  },
  "language_info": {
   "codemirror_mode": {
    "name": "ipython",
    "version": 3
   },
   "file_extension": ".py",
   "mimetype": "text/x-python",
   "name": "python",
   "nbconvert_exporter": "python",
   "pygments_lexer": "ipython3",
   "version": "3.10.16"
  }
 },
 "nbformat": 4,
 "nbformat_minor": 2
}
